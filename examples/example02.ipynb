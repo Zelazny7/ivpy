{
 "nbformat": 4,
 "nbformat_minor": 2,
 "metadata": {
  "language_info": {
   "name": "python",
   "codemirror_mode": {
    "name": "ipython",
    "version": 3
   },
   "version": "3.7.4"
  },
  "orig_nbformat": 2,
  "file_extension": ".py",
  "mimetype": "text/x-python",
  "name": "python",
  "npconvert_exporter": "python",
  "pygments_lexer": "ipython3",
  "version": 3
 },
 "cells": [
  {
   "cell_type": "markdown",
   "execution_count": null,
   "metadata": {},
   "outputs": [
    {
     "evalue": "Error: Activating Python 3.7.4 64-bit ('data-science': conda) to run Jupyter failed with Error: StdErr from ShellExec, The process cannot access the file because it is being used by another process.\r\nThe process cannot access the file because it is being used by another process.\r\nThe system cannot find the file C:\\Users\\gravesee\\AppData\\Local\\Temp\\conda-24354-3066.tmp.\r\nThe process cannot access the file because it is being used by another process.\r\n.",
     "output_type": "error"
    }
   ],
   "source": [
    "## Loading data\n",
    "\n",
    "The dataset used for this example comes from the `seaborn` package. It is a popular dataset consisting of titanic passengers. The target variable of interest is whether a passenger survived the disaster or not."
   ]
  },
  {
   "cell_type": "code",
   "execution_count": 1,
   "metadata": {},
   "outputs": [],
   "source": [
    "from ivpy import discretize\n",
    "import seaborn as sns\n",
    "import pandas as pd\n",
    "\n",
    "d = sns.load_dataset('titanic')"
   ]
  },
  {
   "cell_type": "markdown",
   "execution_count": null,
   "metadata": {},
   "outputs": [],
   "source": [
    "### Basic Example\n",
    "\n",
    "Using defaults, the discretize function will return a dictionary. The `break` element contains a list of floats that correspond to optimal split points for discretizing the x variable. This list of breaks can be passed to the pandas `cut` function to discretize the array into a set of mutually exclusive intervals:"
   ]
  },
  {
   "cell_type": "code",
   "execution_count": 2,
   "metadata": {},
   "outputs": [
    {
     "name": "stdout",
     "output_type": "stream",
     "text": "[-inf, 7.2271, 7.731249999999999, 7.88335, 9.2875, 10.48125, 39.5, 50.9875, 74.375, 211.41875, inf]\n"
    }
   ],
   "source": [
    "res = discretize(d['fare'], d['survived'])\n",
    "print(res['breaks'])"
   ]
  },
  {
   "cell_type": "markdown",
   "execution_count": 9,
   "metadata": {},
   "outputs": [],
   "source": [
    "Summarizing the target variable, `survived`, but the discretized array yields the following summary statistics:"
   ]
  },
  {
   "cell_type": "code",
   "execution_count": 3,
   "metadata": {},
   "outputs": [
    {
     "data": {
      "text/html": "<div>\n<style scoped>\n    .dataframe tbody tr th:only-of-type {\n        vertical-align: middle;\n    }\n\n    .dataframe tbody tr th {\n        vertical-align: top;\n    }\n\n    .dataframe thead th {\n        text-align: right;\n    }\n</style>\n<table border=\"1\" class=\"dataframe\">\n  <thead>\n    <tr style=\"text-align: right;\">\n      <th></th>\n      <th>N</th>\n      <th>Sum</th>\n      <th>Mean</th>\n    </tr>\n    <tr>\n      <th>fare</th>\n      <th></th>\n      <th></th>\n      <th></th>\n    </tr>\n  </thead>\n  <tbody>\n    <tr>\n      <td>(-inf, 7.227]</td>\n      <td>55</td>\n      <td>6</td>\n      <td>0.109091</td>\n    </tr>\n    <tr>\n      <td>(7.227, 7.731]</td>\n      <td>44</td>\n      <td>8</td>\n      <td>0.181818</td>\n    </tr>\n    <tr>\n      <td>(7.731, 7.883]</td>\n      <td>85</td>\n      <td>29</td>\n      <td>0.341176</td>\n    </tr>\n    <tr>\n      <td>(7.883, 9.288]</td>\n      <td>132</td>\n      <td>19</td>\n      <td>0.143939</td>\n    </tr>\n    <tr>\n      <td>(9.288, 10.481]</td>\n      <td>23</td>\n      <td>5</td>\n      <td>0.217391</td>\n    </tr>\n    <tr>\n      <td>(10.481, 39.5]</td>\n      <td>368</td>\n      <td>161</td>\n      <td>0.437500</td>\n    </tr>\n    <tr>\n      <td>(39.5, 50.988]</td>\n      <td>25</td>\n      <td>5</td>\n      <td>0.200000</td>\n    </tr>\n    <tr>\n      <td>(50.988, 74.375]</td>\n      <td>62</td>\n      <td>35</td>\n      <td>0.564516</td>\n    </tr>\n    <tr>\n      <td>(74.375, 211.419]</td>\n      <td>80</td>\n      <td>63</td>\n      <td>0.787500</td>\n    </tr>\n    <tr>\n      <td>(211.419, inf]</td>\n      <td>17</td>\n      <td>11</td>\n      <td>0.647059</td>\n    </tr>\n  </tbody>\n</table>\n</div>",
      "text/plain": "                     N  Sum      Mean\nfare                                 \n(-inf, 7.227]       55    6  0.109091\n(7.227, 7.731]      44    8  0.181818\n(7.731, 7.883]      85   29  0.341176\n(7.883, 9.288]     132   19  0.143939\n(9.288, 10.481]     23    5  0.217391\n(10.481, 39.5]     368  161  0.437500\n(39.5, 50.988]      25    5  0.200000\n(50.988, 74.375]    62   35  0.564516\n(74.375, 211.419]   80   63  0.787500\n(211.419, inf]      17   11  0.647059"
     },
     "execution_count": 3,
     "metadata": {},
     "output_type": "execute_result"
    }
   ],
   "source": [
    "x = pd.cut(d['fare'], res['breaks'])\n",
    "d['survived'].groupby(x).agg(N='size', Sum='sum', Mean='mean')\n"
   ]
  },
  {
   "cell_type": "markdown",
   "execution_count": null,
   "metadata": {},
   "outputs": [],
   "source": [
    "### Monotonicity\n",
    "\n",
    "Often in scorecard modeling, monotonicity is a desired characteristic of a discretized variable. `ivpy` supports four levels of monotonicity:\n",
    "\n",
    "- `-1` : `y` decreases as `x` increases\n",
    "- `0` : no monotonic relationship\n",
    "- `1` : `y` increases as `x` increases\n",
    "- `2` : `y` either increases or decreases as `x` increases\n",
    "\n",
    "Passing a value of `mono=1` in the function below results in increasing values of `y` as the `x` increase."
   ]
  },
  {
   "cell_type": "code",
   "execution_count": 4,
   "metadata": {},
   "outputs": [
    {
     "data": {
      "text/html": "<div>\n<style scoped>\n    .dataframe tbody tr th:only-of-type {\n        vertical-align: middle;\n    }\n\n    .dataframe tbody tr th {\n        vertical-align: top;\n    }\n\n    .dataframe thead th {\n        text-align: right;\n    }\n</style>\n<table border=\"1\" class=\"dataframe\">\n  <thead>\n    <tr style=\"text-align: right;\">\n      <th></th>\n      <th>N</th>\n      <th>Sum</th>\n      <th>Mean</th>\n    </tr>\n    <tr>\n      <th>fare</th>\n      <th></th>\n      <th></th>\n      <th></th>\n    </tr>\n  </thead>\n  <tbody>\n    <tr>\n      <td>(-inf, 7.227]</td>\n      <td>55</td>\n      <td>6</td>\n      <td>0.109091</td>\n    </tr>\n    <tr>\n      <td>(7.227, 7.404]</td>\n      <td>29</td>\n      <td>5</td>\n      <td>0.172414</td>\n    </tr>\n    <tr>\n      <td>(7.404, 10.481]</td>\n      <td>255</td>\n      <td>56</td>\n      <td>0.219608</td>\n    </tr>\n    <tr>\n      <td>(10.481, 15.173]</td>\n      <td>122</td>\n      <td>47</td>\n      <td>0.385246</td>\n    </tr>\n    <tr>\n      <td>(15.173, 15.646]</td>\n      <td>14</td>\n      <td>6</td>\n      <td>0.428571</td>\n    </tr>\n    <tr>\n      <td>(15.646, 50.988]</td>\n      <td>257</td>\n      <td>113</td>\n      <td>0.439689</td>\n    </tr>\n    <tr>\n      <td>(50.988, 52.277]</td>\n      <td>10</td>\n      <td>5</td>\n      <td>0.500000</td>\n    </tr>\n    <tr>\n      <td>(52.277, 74.375]</td>\n      <td>52</td>\n      <td>30</td>\n      <td>0.576923</td>\n    </tr>\n    <tr>\n      <td>(74.375, 79.825]</td>\n      <td>21</td>\n      <td>15</td>\n      <td>0.714286</td>\n    </tr>\n    <tr>\n      <td>(79.825, inf]</td>\n      <td>76</td>\n      <td>59</td>\n      <td>0.776316</td>\n    </tr>\n  </tbody>\n</table>\n</div>",
      "text/plain": "                    N  Sum      Mean\nfare                                \n(-inf, 7.227]      55    6  0.109091\n(7.227, 7.404]     29    5  0.172414\n(7.404, 10.481]   255   56  0.219608\n(10.481, 15.173]  122   47  0.385246\n(15.173, 15.646]   14    6  0.428571\n(15.646, 50.988]  257  113  0.439689\n(50.988, 52.277]   10    5  0.500000\n(52.277, 74.375]   52   30  0.576923\n(74.375, 79.825]   21   15  0.714286\n(79.825, inf]      76   59  0.776316"
     },
     "execution_count": 4,
     "metadata": {},
     "output_type": "execute_result"
    }
   ],
   "source": [
    "res = discretize(d['fare'], d['survived'], mono=1)\n",
    "x = pd.cut(d['fare'], res['breaks'])\n",
    "d['survived'].groupby(x).agg(N='size', Sum='sum', Mean='mean')"
   ]
  },
  {
   "cell_type": "markdown",
   "execution_count": null,
   "metadata": {},
   "outputs": [],
   "source": [
    "### Controlling Structure\n",
    "\n",
    "Other arguments can be used to control how many bins are returned (at most) as well as how many observations fall within bins:"
   ]
  },
  {
   "cell_type": "code",
   "execution_count": 5,
   "metadata": {},
   "outputs": [
    {
     "data": {
      "text/html": "<div>\n<style scoped>\n    .dataframe tbody tr th:only-of-type {\n        vertical-align: middle;\n    }\n\n    .dataframe tbody tr th {\n        vertical-align: top;\n    }\n\n    .dataframe thead th {\n        text-align: right;\n    }\n</style>\n<table border=\"1\" class=\"dataframe\">\n  <thead>\n    <tr style=\"text-align: right;\">\n      <th></th>\n      <th>N</th>\n      <th>Sum</th>\n      <th>Mean</th>\n    </tr>\n    <tr>\n      <th>fare</th>\n      <th></th>\n      <th></th>\n      <th></th>\n    </tr>\n  </thead>\n  <tbody>\n    <tr>\n      <td>(-inf, 10.481]</td>\n      <td>339</td>\n      <td>67</td>\n      <td>0.197640</td>\n    </tr>\n    <tr>\n      <td>(10.481, 15.173]</td>\n      <td>122</td>\n      <td>47</td>\n      <td>0.385246</td>\n    </tr>\n    <tr>\n      <td>(15.173, 50.988]</td>\n      <td>271</td>\n      <td>119</td>\n      <td>0.439114</td>\n    </tr>\n    <tr>\n      <td>(50.988, 74.375]</td>\n      <td>62</td>\n      <td>35</td>\n      <td>0.564516</td>\n    </tr>\n    <tr>\n      <td>(74.375, inf]</td>\n      <td>97</td>\n      <td>74</td>\n      <td>0.762887</td>\n    </tr>\n  </tbody>\n</table>\n</div>",
      "text/plain": "                    N  Sum      Mean\nfare                                \n(-inf, 10.481]    339   67  0.197640\n(10.481, 15.173]  122   47  0.385246\n(15.173, 50.988]  271  119  0.439114\n(50.988, 74.375]   62   35  0.564516\n(74.375, inf]      97   74  0.762887"
     },
     "execution_count": 5,
     "metadata": {},
     "output_type": "execute_result"
    }
   ],
   "source": [
    "res = discretize(d['fare'], d['survived'], mono=1, maxbin=5, minres=25)\n",
    "x = pd.cut(d['fare'], res['breaks'])\n",
    "d['survived'].groupby(x).agg(N='size', Sum='sum', Mean='mean')"
   ]
  }
 ]
}